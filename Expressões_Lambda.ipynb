{
  "cells": [
    {
      "cell_type": "markdown",
      "metadata": {
        "id": "view-in-github",
        "colab_type": "text"
      },
      "source": [
        "<a href=\"https://colab.research.google.com/github/raquelEllem/exerciciosPython/blob/main/Express%C3%B5es_Lambda.ipynb\" target=\"_parent\"><img src=\"https://colab.research.google.com/assets/colab-badge.svg\" alt=\"Open In Colab\"/></a>"
      ]
    },
    {
      "cell_type": "markdown",
      "metadata": {
        "id": "8ExBRfNoloKi"
      },
      "source": [
        "# Expressões Lambda - Simplificado\n",
        "\n",
        "- Funções \"Anônimas\" -> nome ruim pra uma função que você não precisa definir e depois usar, você define já usando direto.\n",
        "\n",
        "Ex:\n",
        "\n",
        "Digamos que você está avaliando o preço de um serviço e quer saber quanto de imposto será cobrado sobre o serviço.\n",
        "O imposto é correspondente a 30% do valor do produto"
      ]
    },
    {
      "cell_type": "code",
      "execution_count": null,
      "metadata": {
        "id": "jDjP__FmloKt",
        "outputId": "25cad460-eb68-4d91-9faf-fa44e42d5a07"
      },
      "outputs": [
        {
          "name": "stdout",
          "output_type": "stream",
          "text": [
            "1.5\n"
          ]
        }
      ],
      "source": [
        "preco = 5\n",
        "\n",
        "# função normal\n",
        "def calcular_imposto(preco):\n",
        "    return preco * 0.3\n",
        "\n",
        "print(calcular_imposto(preco))"
      ]
    },
    {
      "cell_type": "code",
      "execution_count": null,
      "metadata": {
        "id": "JyYlpa-qloK1",
        "outputId": "743b5ca2-1ddf-4735-e97b-ef76328210a1"
      },
      "outputs": [
        {
          "name": "stdout",
          "output_type": "stream",
          "text": [
            "1.5\n"
          ]
        }
      ],
      "source": [
        "# função lambda\n",
        "\n",
        "calcular_imposto2 = lambda x: x*0.3\n",
        "print(calcular_imposto2(preco))"
      ]
    },
    {
      "cell_type": "markdown",
      "metadata": {
        "id": "wYM_F08-loK6"
      },
      "source": [
        "### Tá, mas qual a diferença?\n",
        "\n",
        "Quando você aplica essa função dentro de outros métodos do Python. Aí sim existe vantagem.\n",
        "\n",
        "Ex: temos agora uma lista de preços."
      ]
    },
    {
      "cell_type": "code",
      "execution_count": null,
      "metadata": {
        "id": "qQY59GculoK9",
        "outputId": "0a881794-e253-4415-89f6-00decb913958"
      },
      "outputs": [
        {
          "name": "stdout",
          "output_type": "stream",
          "text": [
            "[300, 1500, 30, 75]\n"
          ]
        }
      ],
      "source": [
        "precos = [100, 500, 10, 25]\n",
        "\n",
        "impostos = list(map(lambda x: x*0.3, precos))\n",
        "print(impostos)"
      ]
    }
  ],
  "metadata": {
    "kernelspec": {
      "display_name": "Python 3",
      "language": "python",
      "name": "python3"
    },
    "language_info": {
      "codemirror_mode": {
        "name": "ipython",
        "version": 3
      },
      "file_extension": ".py",
      "mimetype": "text/x-python",
      "name": "python",
      "nbconvert_exporter": "python",
      "pygments_lexer": "ipython3",
      "version": "3.8.5"
    },
    "colab": {
      "provenance": [],
      "include_colab_link": true
    }
  },
  "nbformat": 4,
  "nbformat_minor": 0
}