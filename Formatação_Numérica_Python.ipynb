{
  "cells": [
    {
      "cell_type": "markdown",
      "metadata": {
        "id": "view-in-github",
        "colab_type": "text"
      },
      "source": [
        "<a href=\"https://colab.research.google.com/github/raquelEllem/exerciciosPython/blob/main/Formata%C3%A7%C3%A3o_Num%C3%A9rica_Python.ipynb\" target=\"_parent\"><img src=\"https://colab.research.google.com/assets/colab-badge.svg\" alt=\"Open In Colab\"/></a>"
      ]
    },
    {
      "cell_type": "markdown",
      "metadata": {
        "id": "XGphkTfThper"
      },
      "source": [
        "# Formatação Numérica no Python\n",
        "\n",
        "### Padrão:\n",
        "    - Ponto separador de decimal"
      ]
    },
    {
      "cell_type": "code",
      "execution_count": null,
      "metadata": {
        "id": "9_4imlJ_hpet",
        "outputId": "6b740a39-c1ae-48ac-edea-d5ddeeef5837"
      },
      "outputs": [
        {
          "name": "stdout",
          "output_type": "stream",
          "text": [
            "O lucro foi de R$1,000.00\n"
          ]
        }
      ],
      "source": [
        "faturamento = 1500\n",
        "custo = 500\n",
        "lucro = faturamento - custo\n",
        "print(f'O lucro foi de R${lucro:,.2f}')"
      ]
    },
    {
      "cell_type": "code",
      "execution_count": null,
      "metadata": {
        "id": "gWT1xPKdhpew",
        "outputId": "21d5fcf3-7ed7-48aa-ef57-a1f935dd7490"
      },
      "outputs": [
        {
          "name": "stdout",
          "output_type": "stream",
          "text": [
            "A margem foi de 66.7%\n"
          ]
        }
      ],
      "source": [
        "margem = lucro / faturamento\n",
        "print(f'A margem foi de {margem:.1%}')"
      ]
    },
    {
      "cell_type": "markdown",
      "metadata": {
        "id": "INkIOiaAhpey"
      },
      "source": [
        "- E se eu quiser a moeda no formato brasileiro?"
      ]
    },
    {
      "cell_type": "code",
      "execution_count": null,
      "metadata": {
        "id": "mQxeF8wDhpe0",
        "outputId": "137a9a74-c1b9-4b90-ce1b-aa2e042d5e73"
      },
      "outputs": [
        {
          "name": "stdout",
          "output_type": "stream",
          "text": [
            "O lucro foi de R$1.000,00\n"
          ]
        }
      ],
      "source": [
        "texto_lucro = f\"R${lucro:_.2f}\"\n",
        "texto_lucro = texto_lucro.replace(\".\", \",\").replace(\"_\", \".\")\n",
        "print(f'O lucro foi de {texto_lucro}')"
      ]
    }
  ],
  "metadata": {
    "kernelspec": {
      "display_name": "Python 3",
      "language": "python",
      "name": "python3"
    },
    "language_info": {
      "codemirror_mode": {
        "name": "ipython",
        "version": 3
      },
      "file_extension": ".py",
      "mimetype": "text/x-python",
      "name": "python",
      "nbconvert_exporter": "python",
      "pygments_lexer": "ipython3",
      "version": "3.8.5"
    },
    "colab": {
      "provenance": [],
      "include_colab_link": true
    }
  },
  "nbformat": 4,
  "nbformat_minor": 0
}