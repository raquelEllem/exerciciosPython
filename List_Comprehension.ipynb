{
  "cells": [
    {
      "cell_type": "markdown",
      "metadata": {
        "id": "view-in-github",
        "colab_type": "text"
      },
      "source": [
        "<a href=\"https://colab.research.google.com/github/raquelEllem/exerciciosPython/blob/main/List_Comprehension.ipynb\" target=\"_parent\"><img src=\"https://colab.research.google.com/assets/colab-badge.svg\" alt=\"Open In Colab\"/></a>"
      ]
    },
    {
      "cell_type": "markdown",
      "metadata": {
        "id": "QIVFGkqZjr_J"
      },
      "source": [
        "### fazendo com for\n",
        "\n",
        "- Caso 1: Dobrar o valor de um produto\n",
        "- Caso 2: Todos os produtos que custarem acima de 1.000 dolares, imposto de 50% sobre o valor total"
      ]
    },
    {
      "cell_type": "code",
      "execution_count": null,
      "metadata": {
        "id": "8e0P_HDAjr_R",
        "outputId": "b5793986-11c7-4d81-d3fe-92895975c760"
      },
      "outputs": [
        {
          "name": "stdout",
          "output_type": "stream",
          "text": [
            "[1000, 3000, 4000, 200, 50]\n",
            "[750.0, 1000.0]\n"
          ]
        }
      ],
      "source": [
        "precos = [500, 1500, 2000, 100, 25]\n",
        "\n",
        "# Caso 1\n",
        "novo_preco = []\n",
        "for preco in precos:\n",
        "    novo_preco.append(preco * 2)\n",
        "print(novo_preco)\n",
        "\n",
        "# Caso 2\n",
        "imposto = []\n",
        "for preco in precos:\n",
        "    if preco > 1000:\n",
        "        imposto.append(preco / 2)\n",
        "print(imposto)"
      ]
    },
    {
      "cell_type": "markdown",
      "metadata": {
        "id": "vzs23rJAjr_Z"
      },
      "source": [
        "### fazendo com list comprehension"
      ]
    },
    {
      "cell_type": "code",
      "execution_count": null,
      "metadata": {
        "id": "50aIicuMjr_e",
        "outputId": "08e01769-4885-469e-d4be-22c1f7792cec"
      },
      "outputs": [
        {
          "name": "stdout",
          "output_type": "stream",
          "text": [
            "[1000, 3000, 4000, 200, 50]\n",
            "[750.0, 1000.0]\n"
          ]
        }
      ],
      "source": [
        "# Caso 1\n",
        "novo_preco2 = [preco * 2 for preco in precos]\n",
        "print(novo_preco2)\n",
        "\n",
        "# Caso 2\n",
        "imposto2 = [preco / 2 for preco in precos if preco > 1000]\n",
        "print(imposto2)"
      ]
    },
    {
      "cell_type": "markdown",
      "metadata": {
        "id": "kjj20kTKjr_k"
      },
      "source": [
        "### Qual a vantagem?\n",
        "\n",
        "- tudo em 1 linha de código\n",
        "- mais rápido e \"simples\" se você já está acostumado"
      ]
    }
  ],
  "metadata": {
    "kernelspec": {
      "display_name": "Python 3",
      "language": "python",
      "name": "python3"
    },
    "language_info": {
      "codemirror_mode": {
        "name": "ipython",
        "version": 3
      },
      "file_extension": ".py",
      "mimetype": "text/x-python",
      "name": "python",
      "nbconvert_exporter": "python",
      "pygments_lexer": "ipython3",
      "version": "3.8.5"
    },
    "colab": {
      "provenance": [],
      "include_colab_link": true
    }
  },
  "nbformat": 4,
  "nbformat_minor": 0
}