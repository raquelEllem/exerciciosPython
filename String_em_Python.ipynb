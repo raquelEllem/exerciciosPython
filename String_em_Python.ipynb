{
  "cells": [
    {
      "cell_type": "markdown",
      "metadata": {
        "id": "view-in-github",
        "colab_type": "text"
      },
      "source": [
        "<a href=\"https://colab.research.google.com/github/raquelEllem/exerciciosPython/blob/main/String_em_Python.ipynb\" target=\"_parent\"><img src=\"https://colab.research.google.com/assets/colab-badge.svg\" alt=\"Open In Colab\"/></a>"
      ]
    },
    {
      "cell_type": "markdown",
      "metadata": {
        "id": "kZBBgV5l6hMJ"
      },
      "source": [
        "# Strings em Python"
      ]
    },
    {
      "cell_type": "markdown",
      "metadata": {
        "id": "05DXvl0Z6hMS"
      },
      "source": [
        "#** Métodos de String**"
      ]
    },
    {
      "cell_type": "markdown",
      "metadata": {
        "id": "nXEx6gIt6hMU"
      },
      "source": [
        "- Sinal de Mais (+) -> Serve para concatenar strings"
      ]
    },
    {
      "cell_type": "code",
      "source": [
        "usuario = 'raquel'\n",
        "servidor = 'gmail.com'\n",
        "print(usuario + '@' + servidor)\n"
      ],
      "metadata": {
        "id": "aIraSVhg8Nqu",
        "outputId": "d32ea28c-58b5-41a4-d77f-d9985a379c7b",
        "colab": {
          "base_uri": "https://localhost:8080/"
        }
      },
      "execution_count": 1,
      "outputs": [
        {
          "output_type": "stream",
          "name": "stdout",
          "text": [
            "raquel@gmail.com\n"
          ]
        }
      ]
    },
    {
      "cell_type": "markdown",
      "metadata": {
        "id": "H3pvE_JE6hMZ"
      },
      "source": [
        "- len() -> Calcula o tamanho do texto (quantidade de caracteres)"
      ]
    },
    {
      "cell_type": "code",
      "source": [
        "cpf = '1479526'\n",
        "print(f'O CPF tem {len(cpf)} digitos.')"
      ],
      "metadata": {
        "id": "TDiYelds9Cwg",
        "outputId": "6c4101ab-64fa-4f53-f4e9-c2e5f4655875",
        "colab": {
          "base_uri": "https://localhost:8080/"
        }
      },
      "execution_count": 9,
      "outputs": [
        {
          "output_type": "stream",
          "name": "stdout",
          "text": [
            "O CPF tem 7 digitos.\n"
          ]
        }
      ]
    },
    {
      "cell_type": "markdown",
      "metadata": {
        "id": "j1Wjpuzf6hMb"
      },
      "source": [
        "## Métodos Específicos de String:"
      ]
    },
    {
      "cell_type": "markdown",
      "metadata": {
        "id": "Gvgm-yW-6hMd"
      },
      "source": [
        "- capitalize() -> Coloca a 1ª letra Maiúscula"
      ]
    },
    {
      "cell_type": "code",
      "source": [
        "texto = 'raquel'\n",
        "print(texto.capitalize())"
      ],
      "metadata": {
        "id": "U2h80KnS-D7G",
        "outputId": "f3a31e36-a81e-4ec2-ded1-fc05bc329956",
        "colab": {
          "base_uri": "https://localhost:8080/"
        }
      },
      "execution_count": 10,
      "outputs": [
        {
          "output_type": "stream",
          "name": "stdout",
          "text": [
            "Raquel\n"
          ]
        }
      ]
    },
    {
      "cell_type": "markdown",
      "metadata": {
        "id": "tMVfFdR16hMi"
      },
      "source": [
        "- casefold() -> Transforma todas as letras em minúsculas (existe lower() mas o casefold é melhor normalmente)"
      ]
    },
    {
      "cell_type": "code",
      "source": [
        "texto = 'Raquel'\n",
        "print(texto.casefold())"
      ],
      "metadata": {
        "id": "J0qp_YJv-PQv",
        "outputId": "1ef1f6ad-655d-4cf8-82fb-c632d9712904",
        "colab": {
          "base_uri": "https://localhost:8080/"
        }
      },
      "execution_count": 11,
      "outputs": [
        {
          "output_type": "stream",
          "name": "stdout",
          "text": [
            "raquel\n"
          ]
        }
      ]
    },
    {
      "cell_type": "markdown",
      "metadata": {
        "id": "b0EZZqMB6hMm"
      },
      "source": [
        "- count()\t-> Quantidade de vezes que um valor aparece na string"
      ]
    },
    {
      "cell_type": "code",
      "source": [
        "texto = 'raquel@yahoo.com.br'\n",
        "print(texto.count('.'))"
      ],
      "metadata": {
        "id": "W4TkYlxN-bXG",
        "outputId": "092e1b8c-e4ff-43de-c34d-48abfeb9dda1",
        "colab": {
          "base_uri": "https://localhost:8080/"
        }
      },
      "execution_count": 12,
      "outputs": [
        {
          "output_type": "stream",
          "name": "stdout",
          "text": [
            "2\n"
          ]
        }
      ]
    },
    {
      "cell_type": "markdown",
      "metadata": {
        "id": "jJxRo0tS6hMo"
      },
      "source": [
        "- endswith() -> Verifica se o texto termina com um valor específico e dá como resposta True ou False"
      ]
    },
    {
      "cell_type": "code",
      "source": [
        "texto = 'raquel@gmail.com'\n",
        "print(texto.endswith('gmail.com'))"
      ],
      "metadata": {
        "id": "xQ-OhtTx-jQz",
        "outputId": "9cb37b47-54c5-4946-8c98-4dd949902131",
        "colab": {
          "base_uri": "https://localhost:8080/"
        }
      },
      "execution_count": 13,
      "outputs": [
        {
          "output_type": "stream",
          "name": "stdout",
          "text": [
            "True\n"
          ]
        }
      ]
    },
    {
      "cell_type": "markdown",
      "metadata": {
        "id": "5KAxrFGr6hMq"
      },
      "source": [
        "- find() -> Procura um texto dentro de outro texto e dá como resposta a posição do texto encontrado"
      ]
    },
    {
      "cell_type": "code",
      "source": [
        "texto = 'raquel@gmail.com'\n",
        "print(texto.find('@'))"
      ],
      "metadata": {
        "id": "dBwv9qtM-vS4",
        "outputId": "759b5809-3172-4a16-f946-6869812cab41",
        "colab": {
          "base_uri": "https://localhost:8080/"
        }
      },
      "execution_count": 14,
      "outputs": [
        {
          "output_type": "stream",
          "name": "stdout",
          "text": [
            "6\n"
          ]
        }
      ]
    },
    {
      "cell_type": "markdown",
      "metadata": {
        "id": "OkDxbJ6t6hMt"
      },
      "source": [
        "- format() -> Formata uma string de acordo com os valores passados. "
      ]
    },
    {
      "cell_type": "code",
      "source": [
        "faturamento = 1000\n",
        "print('O faturamento da loja foi de {} reais'.format(faturamento))"
      ],
      "metadata": {
        "id": "PhSGekr6-1kO",
        "outputId": "e6284d67-5b2b-441d-f8ac-94eb6508976c",
        "colab": {
          "base_uri": "https://localhost:8080/"
        }
      },
      "execution_count": 15,
      "outputs": [
        {
          "output_type": "stream",
          "name": "stdout",
          "text": [
            "O faturamento da loja foi de 1000 reais\n"
          ]
        }
      ]
    },
    {
      "cell_type": "markdown",
      "metadata": {
        "id": "wIbdMn2u6hMw"
      },
      "source": [
        "- isalnum() -> Verifica se um texto é todo feito com caracteres alfanuméricos (letras e números) -> letras com acento ou ç são considerados letras para essa função."
      ]
    },
    {
      "cell_type": "code",
      "source": [
        "texto = 'João123'\n",
        "print(texto.isalnum())"
      ],
      "metadata": {
        "id": "ZCt7g16o_C4w",
        "outputId": "153b5850-d9c7-445c-ec22-5d513743b1e4",
        "colab": {
          "base_uri": "https://localhost:8080/"
        }
      },
      "execution_count": 16,
      "outputs": [
        {
          "output_type": "stream",
          "name": "stdout",
          "text": [
            "True\n"
          ]
        }
      ]
    },
    {
      "cell_type": "markdown",
      "metadata": {
        "id": "0QuXggWY6hMx"
      },
      "source": [
        "- isalpha() -> Verifica se um texto é todo feito de letras."
      ]
    },
    {
      "cell_type": "code",
      "source": [
        "texto = 'João'\n",
        "print(texto.isalpha())"
      ],
      "metadata": {
        "id": "lB4uYMo8_OgR",
        "outputId": "0b1a13ea-4979-433e-9a79-f75886ee8f72",
        "colab": {
          "base_uri": "https://localhost:8080/"
        }
      },
      "execution_count": 17,
      "outputs": [
        {
          "output_type": "stream",
          "name": "stdout",
          "text": [
            "True\n"
          ]
        }
      ]
    },
    {
      "cell_type": "markdown",
      "metadata": {
        "id": "oq1Ug-p66hM0"
      },
      "source": [
        "- isnumeric()\t-> Verifica se um texto é todo feito por números."
      ]
    },
    {
      "cell_type": "code",
      "source": [
        "texto = '12345'\n",
        "print(texto.isnumeric())"
      ],
      "metadata": {
        "id": "YO8xwGGg_UmK",
        "outputId": "38eda0b8-2505-45cc-b443-789913800647",
        "colab": {
          "base_uri": "https://localhost:8080/"
        }
      },
      "execution_count": 20,
      "outputs": [
        {
          "output_type": "stream",
          "name": "stdout",
          "text": [
            "True\n"
          ]
        }
      ]
    },
    {
      "cell_type": "markdown",
      "metadata": {
        "id": "hYTm6rBn6hM2"
      },
      "source": [
        "- replace() -> Substitui um texto por um outro texto em uma string."
      ]
    },
    {
      "cell_type": "code",
      "source": [
        "texto = '1000.00'\n",
        "print(texto.replace('.', ','))"
      ],
      "metadata": {
        "id": "tWdJc6Ig_ilP",
        "outputId": "2a31c0f4-4204-4083-c5bf-f62132aa3f15",
        "colab": {
          "base_uri": "https://localhost:8080/"
        }
      },
      "execution_count": 22,
      "outputs": [
        {
          "output_type": "stream",
          "name": "stdout",
          "text": [
            "1000,00\n"
          ]
        }
      ]
    },
    {
      "cell_type": "markdown",
      "metadata": {
        "id": "G9FQGwWU6hM4"
      },
      "source": [
        "- split()\t-> Separa uma string de acordo com um delimitador em vários textos diferentes."
      ]
    },
    {
      "cell_type": "code",
      "source": [
        "texto = 'raquel@gmail.com'\n",
        "print(texto.split('@'))"
      ],
      "metadata": {
        "id": "OJuYguX__1WJ",
        "outputId": "0a5b012a-8b21-4f32-f3eb-43b4c1d64482",
        "colab": {
          "base_uri": "https://localhost:8080/"
        }
      },
      "execution_count": 23,
      "outputs": [
        {
          "output_type": "stream",
          "name": "stdout",
          "text": [
            "['raquel', 'gmail.com']\n"
          ]
        }
      ]
    },
    {
      "cell_type": "markdown",
      "metadata": {
        "id": "0A_4at4e6hM5"
      },
      "source": [
        "- splitlines() -> separa um texto em vários textos de acordo com os \"enters\" do texto"
      ]
    },
    {
      "cell_type": "code",
      "source": [
        "texto = '''Olá, bom dia\n",
        "    Venho por meio desse e-mail lhe informar o faturamento da loja no dia de hoje.\n",
        "    Faturamento = R$2.500,00\n",
        "    '''\n",
        "print(texto.splitlines())"
      ],
      "metadata": {
        "id": "JWys6UjE_8dk",
        "outputId": "816b6739-e58b-480a-c758-c9cf1907af55",
        "colab": {
          "base_uri": "https://localhost:8080/"
        }
      },
      "execution_count": 24,
      "outputs": [
        {
          "output_type": "stream",
          "name": "stdout",
          "text": [
            "['Olá, bom dia', '    Venho por meio desse e-mail lhe informar o faturamento da loja no dia de hoje.', '    Faturamento = R$2.500,00', '    ']\n"
          ]
        }
      ]
    },
    {
      "cell_type": "markdown",
      "metadata": {
        "id": "oxd-kZrp6hM6"
      },
      "source": [
        "- startswith() -> Verifica se a string começa com determinado texto"
      ]
    },
    {
      "cell_type": "code",
      "source": [
        "texto = 'BEB123453'\n",
        "print(texto.startswith('BEB'))"
      ],
      "metadata": {
        "id": "b5Z1JrFoAK0M",
        "outputId": "13289777-33a0-422f-cf57-8c54c0a50f65",
        "colab": {
          "base_uri": "https://localhost:8080/"
        }
      },
      "execution_count": 25,
      "outputs": [
        {
          "output_type": "stream",
          "name": "stdout",
          "text": [
            "True\n"
          ]
        }
      ]
    },
    {
      "cell_type": "markdown",
      "metadata": {
        "id": "B6sgS-Fq6hM8"
      },
      "source": [
        "- strip()\t-> Retira caracteres indesejados dos textos. Por padrão, retira espaços \"extras\" no início e no final"
      ]
    },
    {
      "cell_type": "code",
      "source": [
        "texto = ' BEB123453 '\n",
        "print(texto.strip())"
      ],
      "metadata": {
        "id": "Fq2m4d8zASmO",
        "outputId": "de5ed93e-85ee-487e-a280-e69dd3cfdccd",
        "colab": {
          "base_uri": "https://localhost:8080/"
        }
      },
      "execution_count": 26,
      "outputs": [
        {
          "output_type": "stream",
          "name": "stdout",
          "text": [
            "BEB123453\n"
          ]
        }
      ]
    },
    {
      "cell_type": "markdown",
      "metadata": {
        "id": "90IysAse6hM9"
      },
      "source": [
        "- title() -> Coloca a 1ª letra de cada palavra em maiúscula"
      ]
    },
    {
      "cell_type": "code",
      "source": [
        "texto = 'raquel ellem marcelino de oliveira vidal'\n",
        "print(texto.title())"
      ],
      "metadata": {
        "id": "T96m0OKuAR9P",
        "outputId": "40f379a0-8d3f-415e-a9c4-04f5f485952b",
        "colab": {
          "base_uri": "https://localhost:8080/"
        }
      },
      "execution_count": 27,
      "outputs": [
        {
          "output_type": "stream",
          "name": "stdout",
          "text": [
            "Raquel Ellem Marcelino De Oliveira Vidal\n"
          ]
        }
      ]
    },
    {
      "cell_type": "markdown",
      "metadata": {
        "id": "2ysZHaZ56hM-"
      },
      "source": [
        "- upper()\t-> Coloca o texto todo em letra maiúscula"
      ]
    },
    {
      "cell_type": "code",
      "source": [
        "texto = 'beb12343'\n",
        "print(texto.upper())"
      ],
      "metadata": {
        "id": "EbtBQOV5AgAC",
        "outputId": "e11f5e6c-e6e4-44b5-88ba-f296a34a309e",
        "colab": {
          "base_uri": "https://localhost:8080/"
        }
      },
      "execution_count": 28,
      "outputs": [
        {
          "output_type": "stream",
          "name": "stdout",
          "text": [
            "BEB12343\n"
          ]
        }
      ]
    }
  ],
  "metadata": {
    "kernelspec": {
      "display_name": "Python 3",
      "language": "python",
      "name": "python3"
    },
    "language_info": {
      "codemirror_mode": {
        "name": "ipython",
        "version": 3
      },
      "file_extension": ".py",
      "mimetype": "text/x-python",
      "name": "python",
      "nbconvert_exporter": "python",
      "pygments_lexer": "ipython3",
      "version": "3.8.5"
    },
    "colab": {
      "provenance": [],
      "include_colab_link": true
    }
  },
  "nbformat": 4,
  "nbformat_minor": 0
}