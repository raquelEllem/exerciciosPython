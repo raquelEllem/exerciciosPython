{
  "cells": [
    {
      "cell_type": "markdown",
      "metadata": {
        "id": "view-in-github",
        "colab_type": "text"
      },
      "source": [
        "<a href=\"https://colab.research.google.com/github/raquelEllem/exerciciosPython/blob/main/Dicion%C3%A1rios_em_Python.ipynb\" target=\"_parent\"><img src=\"https://colab.research.google.com/assets/colab-badge.svg\" alt=\"Open In Colab\"/></a>"
      ]
    },
    {
      "cell_type": "markdown",
      "metadata": {
        "id": "cQhxvN3EA1hC"
      },
      "source": [
        "# Dicionários em Python\n",
        "\n",
        "### Dicionário é uma lista com um \"rótulo\"\n",
        "\n",
        "É muito bom para armazenar informações que precisam de algum tipo de identificador. Vamos ver no exemplo.\n",
        "\n",
        "Ex: E-mails de gerentes de loja"
      ]
    },
    {
      "cell_type": "code",
      "execution_count": null,
      "metadata": {
        "id": "7dmwRsMkA1hG"
      },
      "outputs": [],
      "source": [
        "emails_gerentes = {\n",
        "    \"Iguatemi\": \"iguatemi@gmail.com\",\n",
        "    \"Plaza\": \"plaza@gmail.com\",\n",
        "    \"Barra\": \"barra@gmail.com,\"\n",
        "}\n"
      ]
    },
    {
      "cell_type": "markdown",
      "metadata": {
        "id": "C2_qFn0sA1hJ"
      },
      "source": [
        "### Se eu quiser descobrir qual o e-mail do shopping \"Iguatemi\""
      ]
    },
    {
      "cell_type": "code",
      "execution_count": null,
      "metadata": {
        "id": "LM7svrVMA1hL",
        "outputId": "29c1d801-f435-4042-cf09-91c873792d42"
      },
      "outputs": [
        {
          "name": "stdout",
          "output_type": "stream",
          "text": [
            "iguatemi@gmail.com\n"
          ]
        }
      ],
      "source": [
        "email = emails_gerentes['Iguatemi']\n",
        "print(email)"
      ]
    },
    {
      "cell_type": "markdown",
      "metadata": {
        "id": "ce6ENpX7A1hN"
      },
      "source": [
        "### Se eu quiser adicionar um shopping novo"
      ]
    },
    {
      "cell_type": "code",
      "execution_count": null,
      "metadata": {
        "id": "qgek4pG5A1hQ",
        "outputId": "abfc83e6-c93e-4161-f2de-0ca0b86fee46"
      },
      "outputs": [
        {
          "name": "stdout",
          "output_type": "stream",
          "text": [
            "{'Iguatemi': 'iguatemi@gmail.com', 'Plaza': 'plaza@gmail.com', 'Barra': 'barra@gmail.com,', 'Leblon': 'leblon@gmail.com'}\n"
          ]
        }
      ],
      "source": [
        "emails_gerentes['Leblon'] = \"leblon@gmail.com\"\n",
        "print(emails_gerentes)"
      ]
    },
    {
      "cell_type": "markdown",
      "metadata": {
        "id": "0bc7ynS3A1hR"
      },
      "source": [
        "### Se eu quiser descobrir todos os shopping que temos?"
      ]
    },
    {
      "cell_type": "code",
      "execution_count": null,
      "metadata": {
        "id": "BSgZs-nvA1hS",
        "outputId": "cf0e7322-de92-4fd3-aa90-bb77671dc35e"
      },
      "outputs": [
        {
          "name": "stdout",
          "output_type": "stream",
          "text": [
            "Iguatemi\n",
            "Plaza\n",
            "Barra\n",
            "Leblon\n"
          ]
        }
      ],
      "source": [
        "# forma 1: fazer um for\n",
        "for shopping in emails_gerentes:\n",
        "    print(shopping)"
      ]
    },
    {
      "cell_type": "code",
      "execution_count": null,
      "metadata": {
        "id": "k17iKd-GA1hU",
        "outputId": "26a9ecc0-e31f-480c-bfa7-002ff851959f"
      },
      "outputs": [
        {
          "name": "stdout",
          "output_type": "stream",
          "text": [
            "dict_keys(['Iguatemi', 'Plaza', 'Barra', 'Leblon'])\n"
          ]
        }
      ],
      "source": [
        "# forma 2: dicionario.keys()\n",
        "print(emails_gerentes.keys())"
      ]
    },
    {
      "cell_type": "markdown",
      "metadata": {
        "id": "gVtJo3zzA1ha"
      },
      "source": [
        "### Se eu quiser todos os e-mails?"
      ]
    },
    {
      "cell_type": "code",
      "execution_count": null,
      "metadata": {
        "id": "AsEw6k-HA1hc",
        "outputId": "e1275a04-d22e-439a-a39d-3b64f16f6987"
      },
      "outputs": [
        {
          "name": "stdout",
          "output_type": "stream",
          "text": [
            "iguatemi@gmail.com\n",
            "plaza@gmail.com\n",
            "barra@gmail.com,\n",
            "leblon@gmail.com\n"
          ]
        }
      ],
      "source": [
        "# forma 1: fazer um for\n",
        "for shopping in emails_gerentes:\n",
        "    print(emails_gerentes[shopping])"
      ]
    },
    {
      "cell_type": "code",
      "execution_count": null,
      "metadata": {
        "id": "EzAYBE4FA1hf",
        "outputId": "b4ba732e-60f4-402d-8e6f-934d5b9f4168"
      },
      "outputs": [
        {
          "name": "stdout",
          "output_type": "stream",
          "text": [
            "dict_values(['iguatemi@gmail.com', 'plaza@gmail.com', 'barra@gmail.com,', 'leblon@gmail.com'])\n"
          ]
        }
      ],
      "source": [
        "# forma 2: dicionarios.values\n",
        "print(emails_gerentes.values())"
      ]
    },
    {
      "cell_type": "markdown",
      "metadata": {
        "id": "DY8dvD0mA1hh"
      },
      "source": [
        "### Retirar um shopping"
      ]
    },
    {
      "cell_type": "code",
      "execution_count": null,
      "metadata": {
        "id": "dC3RwhmTA1hj",
        "outputId": "1f072616-b9c2-44af-b529-42a155fe18ca"
      },
      "outputs": [
        {
          "ename": "KeyError",
          "evalue": "'Leblon'",
          "output_type": "error",
          "traceback": [
            "\u001b[1;31m---------------------------------------------------------------------------\u001b[0m",
            "\u001b[1;31mKeyError\u001b[0m                                  Traceback (most recent call last)",
            "\u001b[1;32m<ipython-input-13-65bfc62361a9>\u001b[0m in \u001b[0;36m<module>\u001b[1;34m\u001b[0m\n\u001b[1;32m----> 1\u001b[1;33m \u001b[0memails_gerentes\u001b[0m\u001b[1;33m.\u001b[0m\u001b[0mpop\u001b[0m\u001b[1;33m(\u001b[0m\u001b[1;34m\"Leblon\"\u001b[0m\u001b[1;33m)\u001b[0m\u001b[1;33m\u001b[0m\u001b[1;33m\u001b[0m\u001b[0m\n\u001b[0m\u001b[0;32m      2\u001b[0m \u001b[0mprint\u001b[0m\u001b[1;33m(\u001b[0m\u001b[0memails_gerentes\u001b[0m\u001b[1;33m)\u001b[0m\u001b[1;33m\u001b[0m\u001b[1;33m\u001b[0m\u001b[0m\n",
            "\u001b[1;31mKeyError\u001b[0m: 'Leblon'"
          ]
        }
      ],
      "source": [
        "emails_gerentes.pop(\"Leblon\")\n",
        "print(emails_gerentes)"
      ]
    },
    {
      "cell_type": "markdown",
      "metadata": {
        "id": "niKpr-_xA1hl"
      },
      "source": [
        "### Verificar se um Shopping existe:"
      ]
    },
    {
      "cell_type": "code",
      "execution_count": null,
      "metadata": {
        "id": "otqOEfd3A1hm",
        "outputId": "e9dbe69d-f9df-4d1a-d5f9-c8fa5826a6f1"
      },
      "outputs": [
        {
          "name": "stdout",
          "output_type": "stream",
          "text": [
            "Tem sim\n"
          ]
        }
      ],
      "source": [
        "if \"Iguatemi\" in emails_gerentes:\n",
        "    print(\"Tem sim\")\n",
        "else:\n",
        "    print(\"Tem não\")"
      ]
    }
  ],
  "metadata": {
    "kernelspec": {
      "display_name": "Python 3",
      "language": "python",
      "name": "python3"
    },
    "language_info": {
      "codemirror_mode": {
        "name": "ipython",
        "version": 3
      },
      "file_extension": ".py",
      "mimetype": "text/x-python",
      "name": "python",
      "nbconvert_exporter": "python",
      "pygments_lexer": "ipython3",
      "version": "3.8.5"
    },
    "colab": {
      "provenance": [],
      "include_colab_link": true
    }
  },
  "nbformat": 4,
  "nbformat_minor": 0
}